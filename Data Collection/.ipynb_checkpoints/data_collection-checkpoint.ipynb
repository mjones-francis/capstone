{
 "cells": [
  {
   "cell_type": "markdown",
   "metadata": {},
   "source": [
    "# Data Collection"
   ]
  },
  {
   "cell_type": "code",
   "execution_count": null,
   "metadata": {},
   "outputs": [],
   "source": []
  },
  {
   "cell_type": "code",
   "execution_count": 60,
   "metadata": {},
   "outputs": [],
   "source": [
    "import pandas as pd\n",
    "import requests\n",
    "from bs4 import BeautifulSoup, Comment\n",
    "import unicodedata"
   ]
  },
  {
   "cell_type": "code",
   "execution_count": 61,
   "metadata": {},
   "outputs": [],
   "source": [
    "# function from user BartoszKP on Stack Overflow solution\n",
    "\n",
    "def strip_accents(s):\n",
    "    return ''.join(c for c in unicodedata.normalize('NFD', s)\n",
    "                  if unicodedata.category(c) != 'Mn')"
   ]
  },
  {
   "cell_type": "code",
   "execution_count": 62,
   "metadata": {},
   "outputs": [],
   "source": [
    "int_stats = ['age', 'g', 'gs', 'mp', 'season']\n",
    "\n",
    "float_stats = ['mp_per_g', 'fg_per_g',\n",
    "       'fga_per_g', 'fg_pct', 'fg3_per_g', 'fg3a_per_g', 'fg3_pct',\n",
    "       'fg2_per_g', 'fg2a_per_g', 'fg2_pct', 'efg_pct', 'ft_per_g',\n",
    "       'fta_per_g', 'ft_pct', 'orb_per_g', 'drb_per_g', 'trb_per_g',\n",
    "       'ast_per_g', 'stl_per_g', 'blk_per_g', 'tov_per_g', 'pf_per_g',\n",
    "       'pts_per_g','per', 'ts_pct', 'fg3a_per_fga_pct',\n",
    "       'fta_per_fga_pct', 'orb_pct', 'drb_pct', 'trb_pct', 'ast_pct',\n",
    "       'stl_pct', 'blk_pct', 'tov_pct', 'usg_pct', 'ws-dum', 'ows', 'dws',\n",
    "       'ws', 'ws_per_48', 'bpm-dum', 'obpm', 'dbpm', 'bpm', 'vorp']"
   ]
  },
  {
   "cell_type": "code",
   "execution_count": 63,
   "metadata": {},
   "outputs": [],
   "source": [
    "team_floats = ['team_PTS', 'team_FGM', 'team_FGA', 'team_FG%',\n",
    "       'team_3PM', 'team_3PA', 'team_3P%', 'team_FTM', 'team_FTA', 'team_FT%',\n",
    "       'team_OR', 'team_DR', 'team_REB', 'team_AST', 'team_STL', 'team_BLK',\n",
    "       'team_TO', 'team_PF']"
   ]
  },
  {
   "cell_type": "code",
   "execution_count": 79,
   "metadata": {},
   "outputs": [],
   "source": [
    "abbr_dict  = {'Atlanta Hawks': 'ATL', 'Boston Celtics': 'BOS', 'Brooklyn Nets': 'BRK',\n",
    "              'Chicago Bulls': 'CHI', 'Charlotte Hornets': 'CHO','Cleveland Cavaliers': 'CLE',\n",
    "              'Dallas Mavericks': 'DAL', 'Denver Nuggets': 'DEN', 'Detroit Pistons': 'DET', 'Golden State Warriors': 'GSW',\n",
    "              'Houston Rockets': 'HOU', 'Indiana Pacers': 'IND', 'Los Angeles Clippers': 'LAC',\n",
    "              'Los Angeles Lakers': 'LAL', 'Memphis Grizzlies': 'MEM', 'Miami Heat': 'MIA',\n",
    "              'Milwaukee Bucks': 'MIL', 'Minnesota Timberwolves': 'MIN', 'New York Knicks': 'NYK',\n",
    "              'New Orleans Pelicans': 'NOP', 'Oklahoma City Thunder': 'OKC', 'Orlando Magic': 'ORL',\n",
    "              'Pheonix Suns': 'PHO', 'Philadelphia 76ers': 'PHI', 'Portland Trailblazers': 'POR', \n",
    "              'Sacramento Kings': 'SAC','San Antonio Spurs': 'SAS', 'Toronto Raptors': 'TOR',\n",
    "              'Utah Jazz': 'UTA', 'Washington Wizards': 'WAS'}"
   ]
  },
  {
   "cell_type": "code",
   "execution_count": 68,
   "metadata": {},
   "outputs": [],
   "source": [
    "def empty_is_zero(s):\n",
    "    if s == '':\n",
    "        return '0.0'\n",
    "    else:\n",
    "        return s"
   ]
  },
  {
   "cell_type": "code",
   "execution_count": 69,
   "metadata": {},
   "outputs": [],
   "source": [
    "def get_stats(seasons = []):\n",
    "    \n",
    "    season_dfs = [] \n",
    "    \n",
    "    for season in seasons:\n",
    "    \n",
    "        per_game_url = f'https://www.basketball-reference.com/leagues/NBA_{season}_per_game.html'\n",
    "        res = requests.get(per_game_url)\n",
    "        soup = BeautifulSoup(res.content, 'lxml')\n",
    "        \n",
    "        header = soup.find('thead')\n",
    "        \n",
    "        col_heads = []\n",
    "        for head in header.find_all('th')[1::]:\n",
    "            col_heads.append(head.attrs['data-stat'])\n",
    "            \n",
    "        players = []\n",
    "        table = soup.find('tbody')\n",
    "        for player in table.find_all('tr'):\n",
    "            player_dict = {}\n",
    "            for i, stat in enumerate(col_heads):\n",
    "                try:\n",
    "                    player_dict[stat] = player.find_all('td')[i].text\n",
    "                except:\n",
    "                    pass\n",
    "            player_dict['season'] = season\n",
    "            \n",
    "            players.append(player_dict)\n",
    "    \n",
    "        per_game_df = pd.DataFrame(players)\n",
    "        per_game_df.dropna(inplace = True)\n",
    "        \n",
    "        \n",
    "        advanced_url = f'https://www.basketball-reference.com/leagues/NBA_{season}_advanced.html'\n",
    "        res_advanced = requests.get(advanced_url)\n",
    "        soup = BeautifulSoup(res_advanced.content, 'lxml')\n",
    "        \n",
    "        \n",
    "            \n",
    "        header_a = soup.find('thead')\n",
    "\n",
    "        col_heads_a = []\n",
    "        for head in header_a.find_all('th')[1::]:\n",
    "            col_heads_a.append(head.attrs['data-stat'])\n",
    "            \n",
    "        players = []\n",
    "        table = soup.find('tbody')\n",
    "        for player in table.find_all('tr'):\n",
    "            player_dict = {}\n",
    "            for i, stat in enumerate(col_heads_a):\n",
    "                try:\n",
    "                    player_dict[stat] = player.find_all('td')[i].text\n",
    "                except:\n",
    "                    pass\n",
    "            player_dict['season'] = season\n",
    "            \n",
    "            players.append(player_dict)\n",
    "    \n",
    "        advanced_df = pd.DataFrame(players)\n",
    "        \n",
    "        \n",
    "        advanced_df.drop(columns = ['pos', 'age', 'g'], inplace = True)\n",
    "        advanced_df.dropna(inplace = True)\n",
    "    \n",
    "        season_df = pd.merge(per_game_df, advanced_df, on = ['player', 'season', 'team_id'])\n",
    "        season_dfs.append(season_df)\n",
    "        \n",
    "    full_df = pd.concat(objs = season_dfs)\n",
    "    \n",
    "    full_df.reset_index(drop = True, inplace = True)\n",
    "    \n",
    "    full_df['player'] = full_df['player'].map(strip_accents)\n",
    "    \n",
    "    \n",
    "    for col in full_df[float_stats]:\n",
    "        full_df[col] = full_df[col].map(empty_is_zero)\n",
    "    \n",
    "    \n",
    "    full_df[float_stats] = full_df[float_stats].astype(float)\n",
    "    full_df[int_stats] = full_df[int_stats].astype(int)\n",
    "        \n",
    "    return full_df\n",
    "        "
   ]
  },
  {
   "cell_type": "code",
   "execution_count": 70,
   "metadata": {},
   "outputs": [],
   "source": [
    "def get_salaries(seasons = []):\n",
    "    season_dfs = []\n",
    "    \n",
    "    for season in seasons:\n",
    "        \n",
    "        pay_url = f'https://hoopshype.com/salaries/players/{season - 1}-{season}/'\n",
    "        pay_res = requests.get(pay_url)\n",
    "        pay_soup = BeautifulSoup(pay_res.content, 'lxml')\n",
    "        \n",
    "        \n",
    "        salary_list = []\n",
    "        pay_table = pay_soup.find('tbody')\n",
    "        for player in pay_table.find_all('tr'):\n",
    "            salary_dict = {}\n",
    "            \n",
    "            salary_dict['player'] = player.find('td', class_ = 'name').text.replace('\\t', '').replace('\\n', '')\n",
    "            \n",
    "            salary_dict['salary'] = player.find_all('td')[-2].text.replace('\\t', '').replace('\\n', '').replace('$', '').replace(',', '')\n",
    "    \n",
    "            salary_list.append(salary_dict)\n",
    "    \n",
    "        salaries = pd.DataFrame(salary_list)\n",
    "        salaries['salary'] = salaries['salary'].astype(int)\n",
    "        salaries['season'] = season\n",
    "        \n",
    "        season_dfs.append(salaries)\n",
    "        \n",
    "    salaries_full = pd.concat(objs = season_dfs)\n",
    "    \n",
    "    return salaries_full"
   ]
  },
  {
   "cell_type": "code",
   "execution_count": 94,
   "metadata": {},
   "outputs": [],
   "source": [
    "def get_team_stats(seasons = []):\n",
    "    \n",
    "    df_list = []\n",
    "    for season in seasons:\n",
    "\n",
    "\n",
    "        url = f'https://www.espn.com/nba/stats/team/_/season/{season}/seasontype/2'\n",
    "        res = requests.get(url)\n",
    "        soup = BeautifulSoup(res.content, 'lxml')\n",
    "\n",
    "        team_table = soup.find('table').find_all('td')[1::2]\n",
    "\n",
    "        stat_table = soup.find('table', class_= 'Table Table--align-right')\n",
    "\n",
    "        team_list = []\n",
    "        for i, team in enumerate(team_table):\n",
    "            team_dict = {}\n",
    "            team_dict['team_id'] = team.text\n",
    "    \n",
    "            for n, stat in enumerate(stat_table.find_all('th')):\n",
    "                team_dict[f'team_{stat.text}'] = stat_table.find_all('tr')[i + 1].find_all('td')[n].text\n",
    "        \n",
    "    \n",
    "            team_list.append(team_dict)\n",
    "    \n",
    "        team_df = pd.DataFrame(team_list)\n",
    "\n",
    "        team_df['team_id'] = team_df['team_id'].map(abbr_dict)\n",
    "\n",
    "        team_df[team_floats] = team_df[team_floats].astype(float)\n",
    "        \n",
    "        team_df['season'] = season\n",
    "        \n",
    "        df_list.append(team_df)\n",
    "        \n",
    "    teams = pd.concat(objs = df_list)\n",
    "    \n",
    "    return teams\n"
   ]
  },
  {
   "cell_type": "code",
   "execution_count": 99,
   "metadata": {},
   "outputs": [],
   "source": [
    "def get_nba_data(seasons = []):\n",
    "    \n",
    "    stats = get_stats(seasons)\n",
    "    \n",
    "    salaries = get_salaries(seasons)\n",
    "    \n",
    "    team_stats = get_team_stats(seasons)\n",
    "    \n",
    "    player_data = pd.merge(stats, salaries, on = ['player', 'season'])\n",
    "    \n",
    "    nba_data = pd.merge(player_data, team_stats, on = ['team_id', 'season'])\n",
    "    \n",
    "    return nba_data"
   ]
  },
  {
   "cell_type": "code",
   "execution_count": 100,
   "metadata": {},
   "outputs": [],
   "source": [
    "nba_data = get_nba_data(seasons = [2017, 2018, 2019])"
   ]
  },
  {
   "cell_type": "code",
   "execution_count": 102,
   "metadata": {},
   "outputs": [
    {
     "data": {
      "text/plain": [
       "(1497, 73)"
      ]
     },
     "execution_count": 102,
     "metadata": {},
     "output_type": "execute_result"
    }
   ],
   "source": [
    "nba_data.shape"
   ]
  },
  {
   "cell_type": "code",
   "execution_count": 101,
   "metadata": {
    "scrolled": false
   },
   "outputs": [
    {
     "data": {
      "text/html": [
       "<div>\n",
       "<style scoped>\n",
       "    .dataframe tbody tr th:only-of-type {\n",
       "        vertical-align: middle;\n",
       "    }\n",
       "\n",
       "    .dataframe tbody tr th {\n",
       "        vertical-align: top;\n",
       "    }\n",
       "\n",
       "    .dataframe thead th {\n",
       "        text-align: right;\n",
       "    }\n",
       "</style>\n",
       "<table border=\"1\" class=\"dataframe\">\n",
       "  <thead>\n",
       "    <tr style=\"text-align: right;\">\n",
       "      <th></th>\n",
       "      <th>player</th>\n",
       "      <th>pos</th>\n",
       "      <th>age</th>\n",
       "      <th>team_id</th>\n",
       "      <th>g</th>\n",
       "      <th>gs</th>\n",
       "      <th>mp_per_g</th>\n",
       "      <th>fg_per_g</th>\n",
       "      <th>fga_per_g</th>\n",
       "      <th>fg_pct</th>\n",
       "      <th>...</th>\n",
       "      <th>team_FTA</th>\n",
       "      <th>team_FT%</th>\n",
       "      <th>team_OR</th>\n",
       "      <th>team_DR</th>\n",
       "      <th>team_REB</th>\n",
       "      <th>team_AST</th>\n",
       "      <th>team_STL</th>\n",
       "      <th>team_BLK</th>\n",
       "      <th>team_TO</th>\n",
       "      <th>team_PF</th>\n",
       "    </tr>\n",
       "  </thead>\n",
       "  <tbody>\n",
       "    <tr>\n",
       "      <th>0</th>\n",
       "      <td>Alex Abrines</td>\n",
       "      <td>SG</td>\n",
       "      <td>23</td>\n",
       "      <td>OKC</td>\n",
       "      <td>68</td>\n",
       "      <td>6</td>\n",
       "      <td>15.5</td>\n",
       "      <td>2.0</td>\n",
       "      <td>5.0</td>\n",
       "      <td>0.393</td>\n",
       "      <td>...</td>\n",
       "      <td>25.8</td>\n",
       "      <td>74.5</td>\n",
       "      <td>12.2</td>\n",
       "      <td>34.4</td>\n",
       "      <td>46.6</td>\n",
       "      <td>21.0</td>\n",
       "      <td>7.9</td>\n",
       "      <td>5.0</td>\n",
       "      <td>14.6</td>\n",
       "      <td>20.9</td>\n",
       "    </tr>\n",
       "    <tr>\n",
       "      <th>1</th>\n",
       "      <td>Steven Adams</td>\n",
       "      <td>C</td>\n",
       "      <td>23</td>\n",
       "      <td>OKC</td>\n",
       "      <td>80</td>\n",
       "      <td>80</td>\n",
       "      <td>29.9</td>\n",
       "      <td>4.7</td>\n",
       "      <td>8.2</td>\n",
       "      <td>0.571</td>\n",
       "      <td>...</td>\n",
       "      <td>25.8</td>\n",
       "      <td>74.5</td>\n",
       "      <td>12.2</td>\n",
       "      <td>34.4</td>\n",
       "      <td>46.6</td>\n",
       "      <td>21.0</td>\n",
       "      <td>7.9</td>\n",
       "      <td>5.0</td>\n",
       "      <td>14.6</td>\n",
       "      <td>20.9</td>\n",
       "    </tr>\n",
       "    <tr>\n",
       "      <th>2</th>\n",
       "      <td>Semaj Christon</td>\n",
       "      <td>PG</td>\n",
       "      <td>24</td>\n",
       "      <td>OKC</td>\n",
       "      <td>64</td>\n",
       "      <td>1</td>\n",
       "      <td>15.2</td>\n",
       "      <td>1.2</td>\n",
       "      <td>3.5</td>\n",
       "      <td>0.345</td>\n",
       "      <td>...</td>\n",
       "      <td>25.8</td>\n",
       "      <td>74.5</td>\n",
       "      <td>12.2</td>\n",
       "      <td>34.4</td>\n",
       "      <td>46.6</td>\n",
       "      <td>21.0</td>\n",
       "      <td>7.9</td>\n",
       "      <td>5.0</td>\n",
       "      <td>14.6</td>\n",
       "      <td>20.9</td>\n",
       "    </tr>\n",
       "    <tr>\n",
       "      <th>3</th>\n",
       "      <td>Norris Cole</td>\n",
       "      <td>PG</td>\n",
       "      <td>28</td>\n",
       "      <td>OKC</td>\n",
       "      <td>13</td>\n",
       "      <td>0</td>\n",
       "      <td>9.6</td>\n",
       "      <td>1.2</td>\n",
       "      <td>4.0</td>\n",
       "      <td>0.308</td>\n",
       "      <td>...</td>\n",
       "      <td>25.8</td>\n",
       "      <td>74.5</td>\n",
       "      <td>12.2</td>\n",
       "      <td>34.4</td>\n",
       "      <td>46.6</td>\n",
       "      <td>21.0</td>\n",
       "      <td>7.9</td>\n",
       "      <td>5.0</td>\n",
       "      <td>14.6</td>\n",
       "      <td>20.9</td>\n",
       "    </tr>\n",
       "    <tr>\n",
       "      <th>4</th>\n",
       "      <td>Nick Collison</td>\n",
       "      <td>PF</td>\n",
       "      <td>36</td>\n",
       "      <td>OKC</td>\n",
       "      <td>20</td>\n",
       "      <td>0</td>\n",
       "      <td>6.4</td>\n",
       "      <td>0.7</td>\n",
       "      <td>1.2</td>\n",
       "      <td>0.609</td>\n",
       "      <td>...</td>\n",
       "      <td>25.8</td>\n",
       "      <td>74.5</td>\n",
       "      <td>12.2</td>\n",
       "      <td>34.4</td>\n",
       "      <td>46.6</td>\n",
       "      <td>21.0</td>\n",
       "      <td>7.9</td>\n",
       "      <td>5.0</td>\n",
       "      <td>14.6</td>\n",
       "      <td>20.9</td>\n",
       "    </tr>\n",
       "  </tbody>\n",
       "</table>\n",
       "<p>5 rows × 73 columns</p>\n",
       "</div>"
      ],
      "text/plain": [
       "           player pos  age team_id   g  gs  mp_per_g  fg_per_g  fga_per_g  \\\n",
       "0    Alex Abrines  SG   23     OKC  68   6      15.5       2.0        5.0   \n",
       "1    Steven Adams   C   23     OKC  80  80      29.9       4.7        8.2   \n",
       "2  Semaj Christon  PG   24     OKC  64   1      15.2       1.2        3.5   \n",
       "3     Norris Cole  PG   28     OKC  13   0       9.6       1.2        4.0   \n",
       "4   Nick Collison  PF   36     OKC  20   0       6.4       0.7        1.2   \n",
       "\n",
       "   fg_pct  ...  team_FTA  team_FT%  team_OR  team_DR  team_REB  team_AST  \\\n",
       "0   0.393  ...      25.8      74.5     12.2     34.4      46.6      21.0   \n",
       "1   0.571  ...      25.8      74.5     12.2     34.4      46.6      21.0   \n",
       "2   0.345  ...      25.8      74.5     12.2     34.4      46.6      21.0   \n",
       "3   0.308  ...      25.8      74.5     12.2     34.4      46.6      21.0   \n",
       "4   0.609  ...      25.8      74.5     12.2     34.4      46.6      21.0   \n",
       "\n",
       "   team_STL  team_BLK  team_TO  team_PF  \n",
       "0       7.9       5.0     14.6     20.9  \n",
       "1       7.9       5.0     14.6     20.9  \n",
       "2       7.9       5.0     14.6     20.9  \n",
       "3       7.9       5.0     14.6     20.9  \n",
       "4       7.9       5.0     14.6     20.9  \n",
       "\n",
       "[5 rows x 73 columns]"
      ]
     },
     "execution_count": 101,
     "metadata": {},
     "output_type": "execute_result"
    }
   ],
   "source": [
    "nba_data.head()"
   ]
  },
  {
   "cell_type": "code",
   "execution_count": 106,
   "metadata": {
    "scrolled": true
   },
   "outputs": [
    {
     "data": {
      "text/plain": [
       "Index(['player', 'pos', 'age', 'team_id', 'g', 'gs', 'mp_per_g', 'fg_per_g',\n",
       "       'fga_per_g', 'fg_pct', 'fg3_per_g', 'fg3a_per_g', 'fg3_pct',\n",
       "       'fg2_per_g', 'fg2a_per_g', 'fg2_pct', 'efg_pct', 'ft_per_g',\n",
       "       'fta_per_g', 'ft_pct', 'orb_per_g', 'drb_per_g', 'trb_per_g',\n",
       "       'ast_per_g', 'stl_per_g', 'blk_per_g', 'tov_per_g', 'pf_per_g',\n",
       "       'pts_per_g', 'season', 'mp', 'per', 'ts_pct', 'fg3a_per_fga_pct',\n",
       "       'fta_per_fga_pct', 'orb_pct', 'drb_pct', 'trb_pct', 'ast_pct',\n",
       "       'stl_pct', 'blk_pct', 'tov_pct', 'usg_pct', 'ws-dum', 'ows', 'dws',\n",
       "       'ws', 'ws_per_48', 'bpm-dum', 'obpm', 'dbpm', 'bpm', 'vorp', 'salary',\n",
       "       'team_GP', 'team_PTS', 'team_FGM', 'team_FGA', 'team_FG%', 'team_3PM',\n",
       "       'team_3PA', 'team_3P%', 'team_FTM', 'team_FTA', 'team_FT%', 'team_OR',\n",
       "       'team_DR', 'team_REB', 'team_AST', 'team_STL', 'team_BLK', 'team_TO',\n",
       "       'team_PF'],\n",
       "      dtype='object')"
      ]
     },
     "execution_count": 106,
     "metadata": {},
     "output_type": "execute_result"
    }
   ],
   "source": [
    "nba_data.columns"
   ]
  },
  {
   "cell_type": "code",
   "execution_count": 107,
   "metadata": {},
   "outputs": [],
   "source": [
    "drop_cols = ['team_GP', 'team_FG%','team_FT%', 'team_OR','team_DR','team_STL', 'team_BLK', 'team_TO', 'team_PF',\n",
    "             'team_3P%',]"
   ]
  },
  {
   "cell_type": "code",
   "execution_count": 108,
   "metadata": {},
   "outputs": [],
   "source": [
    "nba_data.drop(columns = drop_cols, inplace = True)"
   ]
  },
  {
   "cell_type": "code",
   "execution_count": 109,
   "metadata": {},
   "outputs": [
    {
     "data": {
      "text/plain": [
       "(1497, 63)"
      ]
     },
     "execution_count": 109,
     "metadata": {},
     "output_type": "execute_result"
    }
   ],
   "source": [
    "nba_data.shape"
   ]
  },
  {
   "cell_type": "code",
   "execution_count": 110,
   "metadata": {},
   "outputs": [],
   "source": [
    "nba_data.to_csv('../Data/nba_data.csv')"
   ]
  }
 ],
 "metadata": {
  "kernelspec": {
   "display_name": "Python 3",
   "language": "python",
   "name": "python3"
  },
  "language_info": {
   "codemirror_mode": {
    "name": "ipython",
    "version": 3
   },
   "file_extension": ".py",
   "mimetype": "text/x-python",
   "name": "python",
   "nbconvert_exporter": "python",
   "pygments_lexer": "ipython3",
   "version": "3.7.6"
  }
 },
 "nbformat": 4,
 "nbformat_minor": 4
}
